{
 "cells": [
  {
   "cell_type": "code",
   "execution_count": 1,
   "id": "463b7a2f-62e7-4104-852f-13aed12b9644",
   "metadata": {},
   "outputs": [],
   "source": [
    "import requests\n",
    "import json"
   ]
  },
  {
   "cell_type": "code",
   "execution_count": 52,
   "id": "5bb59b60-9423-4971-a27c-d36045a4f9c4",
   "metadata": {},
   "outputs": [
    {
     "name": "stdout",
     "output_type": "stream",
     "text": [
      "{\n",
      "    \"message\": \"Model trained successfully for Money Inbound -> Fee Payments\",\n",
      "    \"Extracted Parameters\": {}\n",
      "}\n"
     ]
    }
   ],
   "source": [
    "url = \"https://raocik-fastapispace.hf.space/train\"\n",
    "\n",
    "files = {\"file\": open(\"C:/Users/ADMIN/Desktop/Python Practice/Hackathon/american_service_requests_pdfs/Money_Inbound-Fee_Payments.pdf\", \"rb\")}\n",
    "data = {\"requestType\": \"Money Inbound\", \"requestSubType\": \"Fee Payments\"}\n",
    "\n",
    "response = requests.post(url, files=files, data=data)\n",
    "\n",
    "# ✅ Pretty Print JSON Response\n",
    "print(json.dumps(response.json(), indent=4))"
   ]
  },
  {
   "cell_type": "code",
   "execution_count": 55,
   "id": "9c4371eb-5cc0-4b66-8514-a2c3fb707d3d",
   "metadata": {},
   "outputs": [
    {
     "name": "stdout",
     "output_type": "stream",
     "text": [
      "{\n",
      "    \"Primary Request Type\": \"Money Inbound\",\n",
      "    \"Primary Request Confidence\": \"0.38\",\n",
      "    \"Sub Request Type\": \"Repayment Term Adjustment\",\n",
      "    \"Sub Request Confidence\": \"0.16\",\n",
      "    \"extracted_parameters\": {\n",
      "        \"Effective Date\": \"Not Found\",\n",
      "        \"Adjustment Amount\": \"Not Found\",\n",
      "        \"Payment Date\": \"March 24, 2025\",\n",
      "        \"Interest Rate\": \"Not Found\",\n",
      "        \"Due Date\": \"March 24, 2025\",\n",
      "        \"Loan Amount\": \"$300,000\",\n",
      "        \"Loan ID\": \"LN-35450\",\n",
      "        \"Transaction Reference\": \"Not Found\"\n",
      "    },\n",
      "    \"is_duplicate\": false\n",
      "}\n"
     ]
    }
   ],
   "source": [
    "url = \"https://raocik-fastapispace.hf.space/predict\"\n",
    "\n",
    "files = {\"file\": open(\"C:/Users/ADMIN/Desktop/Python Practice/Hackathon/american_service_requests_pdfs/Money_Inbound-Fee_Payments.pdf\", \"rb\")}\n",
    "\n",
    "response = requests.post(url, files=files)\n",
    "\n",
    "# ✅ Pretty Print JSON Response\n",
    "print(json.dumps(response.json(), indent=4))"
   ]
  },
  {
   "cell_type": "code",
   "execution_count": 56,
   "id": "3d182458-5fcd-4c67-bd0f-cefa10499cde",
   "metadata": {},
   "outputs": [
    {
     "name": "stdout",
     "output_type": "stream",
     "text": [
      "{\n",
      "    \"Primary Request Type\": \"Money Inbound\",\n",
      "    \"Primary Request Confidence\": \"0.35\",\n",
      "    \"Sub Request Type\": \"Repayment Term Adjustment\",\n",
      "    \"Sub Request Confidence\": \"0.15\",\n",
      "    \"extracted_parameters\": {\n",
      "        \"Effective Date\": \"Not Found\",\n",
      "        \"Adjustment Amount\": \"Not Found\",\n",
      "        \"Payment Date\": \"March 24, 2025\",\n",
      "        \"Interest Rate\": \"Not Found\",\n",
      "        \"Due Date\": \"March 24, 2025\",\n",
      "        \"Loan Amount\": \"$300,000\",\n",
      "        \"Loan ID\": \"LN-39988\",\n",
      "        \"Transaction Reference\": \"Not Found\"\n",
      "    },\n",
      "    \"is_duplicate\": false\n",
      "}\n"
     ]
    }
   ],
   "source": [
    "url = \"https://raocik-fastapispace.hf.space/predict\"\n",
    "\n",
    "files = {\"file\": open(\"C:/Users/ADMIN/Desktop/Python Practice/Hackathon/american_service_requests_pdfs/Closing_Notice-Notice_of_Final_Settlement.pdf\", \"rb\")}\n",
    "\n",
    "response = requests.post(url, files=files)\n",
    "\n",
    "# ✅ Pretty Print JSON Response\n",
    "print(json.dumps(response.json(), indent=4))"
   ]
  },
  {
   "cell_type": "code",
   "execution_count": 43,
   "id": "bb6d259b-425c-4646-b0e7-2c46f649b58c",
   "metadata": {},
   "outputs": [
    {
     "name": "stdout",
     "output_type": "stream",
     "text": [
      "{\n",
      "    \"message\": \"Model trained successfully for Closing Notice -> Notice of Final Settlement\",\n",
      "    \"Extracted Parameters\": {}\n",
      "}\n"
     ]
    }
   ],
   "source": [
    "url = \"https://raocik-fastapispace.hf.space/train\"\n",
    "\n",
    "files = {\"file\": open(\"C:/Users/ADMIN/Desktop/Python Practice/Hackathon/american_service_requests_pdfs/Closing_Notice-Notice_of_Final_Settlement.pdf\", \"rb\")}\n",
    "data = {\"requestType\": \"Closing Notice\", \"requestSubType\": \"Notice of Final Settlement\"}\n",
    "\n",
    "response = requests.post(url, files=files, data=data)\n",
    "\n",
    "# ✅ Pretty Print JSON Response\n",
    "print(json.dumps(response.json(), indent=4))"
   ]
  },
  {
   "cell_type": "code",
   "execution_count": 84,
   "id": "de81016b-e0b9-4d69-9bb9-d8a1a06584cb",
   "metadata": {},
   "outputs": [
    {
     "name": "stdout",
     "output_type": "stream",
     "text": [
      "{\n",
      "    \"Primary Request Type\": \"Money Inbound\",\n",
      "    \"Primary Request Confidence\": \"0.35\",\n",
      "    \"Sub Request Type\": \"Repayment Term Adjustment\",\n",
      "    \"Sub Request Confidence\": \"0.15\",\n",
      "    \"extracted_parameters\": {\n",
      "        \"Effective Date\": \"Not Found\",\n",
      "        \"Adjustment Amount\": \"Not Found\",\n",
      "        \"Payment Date\": \"March 24, 2025\",\n",
      "        \"Interest Rate\": \"Not Found\",\n",
      "        \"Due Date\": \"March 24, 2025\",\n",
      "        \"Loan Amount\": \"$300,000\",\n",
      "        \"Loan ID\": \"LN-39988\",\n",
      "        \"Transaction Reference\": \"Not Found\"\n",
      "    },\n",
      "    \"is_duplicate\": true\n",
      "}\n"
     ]
    }
   ],
   "source": [
    "url = \"https://raocik-fastapispace.hf.space/predict\"\n",
    "\n",
    "files = {\"file\": open(\"C:/Users/ADMIN/Desktop/Python Practice/Hackathon/american_service_requests_pdfs/Closing_Notice-Notice_of_Final_Settlement.pdf\", \"rb\")}\n",
    "\n",
    "response = requests.post(url, files=files)\n",
    "\n",
    "# ✅ Pretty Print JSON Response\n",
    "print(json.dumps(response.json(), indent=4))"
   ]
  },
  {
   "cell_type": "code",
   "execution_count": 20,
   "id": "0601bd53-4aa0-485c-b960-b94daded77a8",
   "metadata": {},
   "outputs": [
    {
     "name": "stdout",
     "output_type": "stream",
     "text": [
      "abcd\n"
     ]
    }
   ],
   "source": [
    "abcd = False\n",
    "if not abcd:\n",
    "    print(\"abcd\")"
   ]
  },
  {
   "cell_type": "code",
   "execution_count": 82,
   "id": "36e17cce-7bc3-4744-94dd-c7ba80e9c9f7",
   "metadata": {},
   "outputs": [
    {
     "name": "stdout",
     "output_type": "stream",
     "text": [
      "{\n",
      "    \"is_duplicate\": true\n",
      "}\n"
     ]
    }
   ],
   "source": [
    "url = \"https://raocik-chromaSpacce.hf.space/duplicateCheck\"\n",
    "\n",
    "files = {\"file\": open(\"C:/Users/ADMIN/Desktop/Python Practice/Hackathon/american_service_requests_pdfs/Money_Inbound-Fee_Payments.pdf\", \"rb\")}\n",
    "\n",
    "response = requests.post(url, files=files)\n",
    "\n",
    "# ✅ Pretty Print JSON Response\n",
    "print(json.dumps(response.json(), indent=4))"
   ]
  },
  {
   "cell_type": "code",
   "execution_count": 70,
   "id": "f8f0364a-a238-4191-9610-bc8567e52287",
   "metadata": {},
   "outputs": [
    {
     "ename": "SyntaxError",
     "evalue": "f-string: unmatched '[' (2993207833.py, line 1)",
     "output_type": "error",
     "traceback": [
      "\u001b[1;36m  Cell \u001b[1;32mIn[70], line 1\u001b[1;36m\u001b[0m\n\u001b[1;33m    print(f\"Similarity: {score}, Stored Timestamp: {metadata[\"timestamp\"]}, Timeframe Threshhold: {timeframe_threshold}\")\u001b[0m\n\u001b[1;37m                                                              ^\u001b[0m\n\u001b[1;31mSyntaxError\u001b[0m\u001b[1;31m:\u001b[0m f-string: unmatched '['\n"
     ]
    }
   ],
   "source": [
    "print(f\"Similarity: {score}, Stored Timestamp: {metadata[\"timestamp\"]}, Timeframe Threshhold: {timeframe_threshold}\")"
   ]
  },
  {
   "cell_type": "code",
   "execution_count": null,
   "id": "e8d06e96-be7a-430e-8ef8-12c0fbd033c7",
   "metadata": {},
   "outputs": [],
   "source": []
  }
 ],
 "metadata": {
  "kernelspec": {
   "display_name": "Python 3 (ipykernel)",
   "language": "python",
   "name": "python3"
  },
  "language_info": {
   "codemirror_mode": {
    "name": "ipython",
    "version": 3
   },
   "file_extension": ".py",
   "mimetype": "text/x-python",
   "name": "python",
   "nbconvert_exporter": "python",
   "pygments_lexer": "ipython3",
   "version": "3.11.7"
  }
 },
 "nbformat": 4,
 "nbformat_minor": 5
}
